{
 "cells": [
  {
   "cell_type": "markdown",
   "metadata": {},
   "source": [
    "# 2020 SUMMER ESC :: Week 6 RNN"
   ]
  },
  {
   "cell_type": "markdown",
   "metadata": {},
   "source": [
    "## LAB 11-4  RNN Time Series\n",
    "\n",
    "- 시계열 분석?\n",
    "\n",
    "시계열 분석은 관측지 $ x_1, x_2 ... x_n $가 시간적 순서를 가진 시계열 데이터에서 과거의 값을 통해 미래의 값을 예측하는 것이다. 시계열 분석을 위해 RNN 모델을 사용하고자 한다. 아래의 예시를 보자\n",
    "\n",
    "\n",
    "![pic1.jpg](img/pic1.jpg) \n",
    "\n",
    "이 데이터는 일별 구글 주가데이터로, 시가 최고가 최저가 거래량 종가를 입력해 8일차의 종가를 예측하고자 한다. 이 모델은 8일차의 종가를 예측하기 위해서 그 전 일주일 치의 데이터를 보면 된다! 라는 가정을 하고 있다(실제와는 다른 가정..) 우리가 알고 있는 일반적인 시계열 분석의 경우 y변수를 trend, seasonality, noise로 나누어 예측을 하는 반면, RNN은 y변수 외에도 여러 feature들을 입력받아 값을 예측한다는 점에서 차이가 있다\n",
    "\n",
    "\n",
    "\n",
    "**코드를 살펴보자!**\n"
   ]
  },
  {
   "cell_type": "code",
   "execution_count": 1,
   "metadata": {},
   "outputs": [],
   "source": [
    "import torch\n",
    "import torch.optim as optim\n",
    "import numpy as np\n",
    "import matplotlib.pyplot as plt"
   ]
  },
  {
   "cell_type": "code",
   "execution_count": 2,
   "metadata": {},
   "outputs": [
    {
     "data": {
      "text/plain": [
       "array([8.28659973e+02, 8.33450012e+02, 8.28349976e+02, 1.24770000e+06,\n",
       "       8.31659973e+02])"
      ]
     },
     "execution_count": 2,
     "metadata": {},
     "output_type": "execute_result"
    }
   ],
   "source": [
    "xy = np.loadtxt(\"data-02-stock_daily.csv\", delimiter=\",\")\n",
    "xy[0]"
   ]
  },
  {
   "cell_type": "markdown",
   "metadata": {},
   "source": [
    "- input data의 차원은 5\n",
    "- 일주일 치의 데이터를 사용할 것이기 때문에 sequence의 길이는 7\n",
    "- output dimension은 종가를 예측하는 것이기 때문에 1\n",
    "- hidden layer의 경우 10으로 지정하고 있는데, input data를 받아서 하나의 값으로 압축을 해 다음 cell에 전달을 해주는 것은 모델에게 부담을 준다. 따라서 hidden layer의 차원을 충분히 보장해 주는 것"
   ]
  },
  {
   "cell_type": "code",
   "execution_count": 3,
   "metadata": {},
   "outputs": [],
   "source": [
    "seq_length = 7    \n",
    "data_dim = 5      \n",
    "hidden_dim = 10   \n",
    "output_dim = 1    \n",
    "learning_rate = 0.01\n",
    "iterations = 500"
   ]
  },
  {
   "cell_type": "code",
   "execution_count": 4,
   "metadata": {},
   "outputs": [],
   "source": [
    "# load data\n",
    "xy = np.loadtxt(\"data-02-stock_daily.csv\", delimiter=\",\")\n",
    "xy = xy[::-1]  # reverse order\n",
    "\n",
    "# split train-test set\n",
    "train_size = int(len(xy) * 0.7)\n",
    "train_set = xy[0:train_size]\n",
    "test_set = xy[train_size - seq_length:]"
   ]
  },
  {
   "cell_type": "code",
   "execution_count": 5,
   "metadata": {},
   "outputs": [],
   "source": [
    "def minmax_scaler(data):\n",
    "    numerator = data - np.min(data, 0)\n",
    "    denominator = np.max(data, 0) - np.min(data, 0)\n",
    "    return numerator / (denominator + 1e-7)"
   ]
  },
  {
   "cell_type": "code",
   "execution_count": 6,
   "metadata": {},
   "outputs": [],
   "source": [
    "train_set = minmax_scaler(train_set)\n",
    "test_set = minmax_scaler(test_set)    "
   ]
  },
  {
   "cell_type": "markdown",
   "metadata": {},
   "source": [
    "- 각 feature의 값의 단위가 다르기 때문에 min-max scaling을 해준다. 학습에서 부담을 덜어줄 수 있다"
   ]
  },
  {
   "cell_type": "code",
   "execution_count": 7,
   "metadata": {},
   "outputs": [],
   "source": [
    "def build_dataset(time_series, seq_length):\n",
    "    dataX = []\n",
    "    dataY = []\n",
    "    for i in range(0, len(time_series) - seq_length):\n",
    "        _x = time_series[i:i + seq_length, :] #7일치 데이터\n",
    "        _y = time_series[i + seq_length, [-1]] #그 다음날의 종가 \n",
    "        dataX.append(_x)\n",
    "        dataY.append(_y)\n",
    "    return np.array(dataX), np.array(dataY)"
   ]
  },
  {
   "cell_type": "code",
   "execution_count": 8,
   "metadata": {},
   "outputs": [],
   "source": [
    "trainX, trainY = build_dataset(train_set, seq_length)\n",
    "testX, testY = build_dataset(test_set, seq_length)"
   ]
  },
  {
   "cell_type": "code",
   "execution_count": 9,
   "metadata": {},
   "outputs": [
    {
     "name": "stdout",
     "output_type": "stream",
     "text": [
      "[[2.53065030e-01 2.45070970e-01 2.33983036e-01 4.66075110e-04\n",
      "  2.32039560e-01]\n",
      " [2.29604366e-01 2.39728936e-01 2.54567513e-01 2.98467330e-03\n",
      "  2.37426028e-01]\n",
      " [2.49235510e-01 2.41668371e-01 2.48338489e-01 2.59926504e-04\n",
      "  2.26793794e-01]\n",
      " [2.21013495e-01 2.46602231e-01 2.54710584e-01 0.00000000e+00\n",
      "  2.62668239e-01]\n",
      " [3.63433786e-01 3.70389871e-01 2.67168847e-01 1.24764722e-02\n",
      "  2.62105010e-01]\n",
      " [2.59447633e-01 3.10673724e-01 2.74113889e-01 4.56323384e-01\n",
      "  2.71751265e-01]\n",
      " [2.76008150e-01 2.78314566e-01 1.98470380e-01 5.70171193e-01\n",
      "  1.78104644e-01]]\n"
     ]
    }
   ],
   "source": [
    "print(trainX[0])"
   ]
  },
  {
   "cell_type": "code",
   "execution_count": 10,
   "metadata": {},
   "outputs": [
    {
     "name": "stdout",
     "output_type": "stream",
     "text": [
      "[0.16053716]\n"
     ]
    }
   ],
   "source": [
    "print(trainY[0])"
   ]
  },
  {
   "cell_type": "code",
   "execution_count": 11,
   "metadata": {},
   "outputs": [],
   "source": [
    "# convert to tensor\n",
    "trainX_tensor = torch.FloatTensor(trainX)\n",
    "trainY_tensor = torch.FloatTensor(trainY)\n",
    "\n",
    "testX_tensor = torch.FloatTensor(testX)\n",
    "testY_tensor = torch.FloatTensor(testY)"
   ]
  },
  {
   "cell_type": "code",
   "execution_count": 12,
   "metadata": {},
   "outputs": [],
   "source": [
    "class Net(torch.nn.Module):\n",
    "    def __init__(self, input_dim, hidden_dim, output_dim, layers):\n",
    "        super(Net, self).__init__()\n",
    "        self.rnn = torch.nn.LSTM(input_dim, hidden_dim, num_layers=layers, batch_first=True)\n",
    "        self.fc = torch.nn.Linear(hidden_dim, output_dim, bias=True)\n",
    "\n",
    "    def forward(self, x):\n",
    "        x, _status = self.rnn(x)\n",
    "        x = self.fc(x[:, -1]) # OUTPUT에서 마지막 것만 사용하겠다. 이 값을 FC에 넣어서 예측값을 구한다 \n",
    "        return x"
   ]
  },
  {
   "cell_type": "code",
   "execution_count": 13,
   "metadata": {},
   "outputs": [],
   "source": [
    "net = Net(data_dim, hidden_dim, output_dim, 1)"
   ]
  },
  {
   "cell_type": "code",
   "execution_count": 14,
   "metadata": {},
   "outputs": [],
   "source": [
    "# loss & optimizer setting\n",
    "criterion = torch.nn.MSELoss()\n",
    "optimizer = optim.Adam(net.parameters(), lr=learning_rate)"
   ]
  },
  {
   "cell_type": "code",
   "execution_count": 15,
   "metadata": {},
   "outputs": [],
   "source": [
    "# start training\n",
    "for i in range(iterations):\n",
    "\n",
    "    optimizer.zero_grad()\n",
    "    outputs = net(trainX_tensor)\n",
    "    loss = criterion(outputs, trainY_tensor)\n",
    "    loss.backward()\n",
    "    optimizer.step()"
   ]
  },
  {
   "cell_type": "code",
   "execution_count": 16,
   "metadata": {},
   "outputs": [
    {
     "data": {
      "image/png": "[encoded data removed]",
      "text/plain": [
       "<Figure size 432x288 with 1 Axes>"
      ]
     },
     "metadata": {
      "needs_background": "light"
     },
     "output_type": "display_data"
    }
   ],
   "source": [
    "plt.plot(testY)\n",
    "plt.plot(net(testX_tensor).data.numpy())\n",
    "plt.legend(['original', 'prediction'])\n",
    "plt.show()"
   ]
  }
 ],
 "metadata": {
  "kernelspec": {
   "display_name": "Python 3",
   "language": "python",
   "name": "python3"
  },
  "language_info": {
   "codemirror_mode": {
    "name": "ipython",
    "version": 3
   },
   "file_extension": ".py",
   "mimetype": "text/x-python",
   "name": "python",
   "nbconvert_exporter": "python",
   "pygments_lexer": "ipython3",
   "version": "3.8.3"
  }
 },
 "nbformat": 4,
 "nbformat_minor": 4
}
