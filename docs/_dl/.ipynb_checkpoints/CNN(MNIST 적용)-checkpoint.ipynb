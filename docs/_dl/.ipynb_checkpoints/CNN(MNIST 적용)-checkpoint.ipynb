{
 "cells": [
  {
   "cell_type": "markdown",
   "metadata": {},
   "source": [
    "## 1. MNIST \n",
    "\n",
    "![MNIST](img/mnist.JPG)\n",
    "\n",
    "MNIST는 손으로 쓰여진 숫자 이미지와 각 이미지에 대한 해당 라벨을 포함하고 있는 데이터셋이다. 이미지는 0과 9사이의 숫자로, 본 글에서는 CNN을 활용해 숫자 손글씨를 분류하는 모델을 만들어볼 것이다. 코드를 작성하기 전에 MNIST 데이터 구조를 살펴보자"
   ]
  },
  {
   "cell_type": "markdown",
   "metadata": {},
   "source": [
    "참고문헌\n",
    "https://tensorflowkorea.gitbooks.io/tensorflow-kr/content/g3doc/tutorials/mnist/pros/"
   ]
  }
 ],
 "metadata": {
  "kernelspec": {
   "display_name": "Python 3",
   "language": "python",
   "name": "python3"
  },
  "language_info": {
   "codemirror_mode": {
    "name": "ipython",
    "version": 3
   },
   "file_extension": ".py",
   "mimetype": "text/x-python",
   "name": "python",
   "nbconvert_exporter": "python",
   "pygments_lexer": "ipython3",
   "version": "3.8.3"
  }
 },
 "nbformat": 4,
 "nbformat_minor": 4
}
